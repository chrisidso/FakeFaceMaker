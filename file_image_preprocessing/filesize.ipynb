{
 "cells": [
  {
   "cell_type": "code",
   "execution_count": 12,
   "metadata": {},
   "outputs": [],
   "source": [
    "import pandas as pd\n",
    "import numpy as np\n",
    "import io\n",
    "import struct\n",
    "import os\n",
    "from PIL import Image\n",
    "from matplotlib import pyplot as plt\n",
    "from skimage.io import imread, imshow\n",
    "from skimage.transform import resize, rotate\n",
    "import shutil"
   ]
  },
  {
   "cell_type": "code",
   "execution_count": 32,
   "metadata": {},
   "outputs": [],
   "source": [
    "def getImData(data):\n",
    "    image = Image.open(data)\n",
    "    return image.size"
   ]
  },
  {
   "cell_type": "code",
   "execution_count": 21,
   "metadata": {},
   "outputs": [],
   "source": [
    "def getImageInfo(data):\n",
    "    data = str(data)\n",
    "    size = len(data)\n",
    "    height = -1\n",
    "    width = -1\n",
    "    content_type = ''    \n",
    "    \n",
    "    content_type = 'image/jpeg'\n",
    "    jpeg = io.StringIO(data)\n",
    "    jpeg.read(2)\n",
    "    b = jpeg.read(1)\n",
    "    try:\n",
    "        while (b and ord(b) != 0xDA):\n",
    "            while (ord(b) != 0xFF): b = jpeg.read(1)\n",
    "            while (ord(b) == 0xFF): b = jpeg.read(1)\n",
    "            if (ord(b) >= 0xC0 and ord(b) <= 0xC3):\n",
    "                jpeg.read(3)\n",
    "                h, w = struct.unpack(\">HH\", jpeg.read(4))\n",
    "                break\n",
    "            else:\n",
    "                jpeg.read(int(struct.unpack(\">H\", jpeg.read(2))[0])-2)\n",
    "            b = jpeg.read(1)\n",
    "        width = int(w)\n",
    "        height = int(h)\n",
    "    except struct.error:\n",
    "        pass\n",
    "    except ValueError:\n",
    "        pass   \n",
    "    \n",
    "    return content_type, width, height"
   ]
  },
  {
   "cell_type": "code",
   "execution_count": 43,
   "metadata": {},
   "outputs": [],
   "source": [
    "fp = \"/home/newton/images/gender_images/train/male\"\n",
    "attr_list = list()\n",
    "for root, dirs, files in os.walk(fp, topdown=False):\n",
    "    for f in files:\n",
    "        attr_list.append(getImData(os.path.join(fp,f)))\n",
    "        \n",
    "        "
   ]
  },
  {
   "cell_type": "code",
   "execution_count": 44,
   "metadata": {},
   "outputs": [
    {
     "data": {
      "text/plain": [
       "array([[178, 218],\n",
       "       [178, 218],\n",
       "       [178, 218],\n",
       "       [178, 218]])"
      ]
     },
     "execution_count": 44,
     "metadata": {},
     "output_type": "execute_result"
    }
   ],
   "source": [
    "n1 = np.array(attr_list)\n",
    "n1[:4]"
   ]
  },
  {
   "cell_type": "code",
   "execution_count": 45,
   "metadata": {},
   "outputs": [
    {
     "name": "stdout",
     "output_type": "stream",
     "text": [
      "[178 218]\n"
     ]
    }
   ],
   "source": [
    "print(np.unique(n1))"
   ]
  },
  {
   "cell_type": "code",
   "execution_count": null,
   "metadata": {},
   "outputs": [],
   "source": [
    "def train_data_maker(data_folder, num_images, c_name, id, max_images):\n",
    "    ''' data_folder    -   the path to write the imags to\n",
    "        num_images     -   the number of images to write\n",
    "        c_name         -   the name of the column\n",
    "        id             -   the value to use             \n",
    "        max_images     -   the maximum number of images to look through '''\n",
    "\n",
    "    count = 0\n",
    "    cindx = anno.columns.get_loc(c_name)\n",
    "   \n",
    "    for i in range(max_images):\n",
    "        filename = anno.iloc[i,0]\n",
    "        if count == num_images:\n",
    "            break\n",
    "        \n",
    "        if anno.iloc[i,cindx] == id:\n",
    "            s3client.download_file('fakefacemaker',filename, os.path.join(data_folder, filename))\n",
    "            count += 1"
   ]
  },
  {
   "cell_type": "code",
   "execution_count": null,
   "metadata": {},
   "outputs": [],
   "source": [
    "classes = ['male', 'female']\n",
    "base_dir= '/home/newton/images/gender_images'\n",
    "for cl in classes:\n",
    "  img_path = os.path.join(base_dir, cl)\n",
    "  images = glob.glob(img_path + '/*.jpg')\n",
    "  print(\"{}: {} Images\".format(cl, len(images)))\n",
    "  num_train = int(round(len(images)*0.8))\n",
    "  train, val = images[:num_train], images[num_train:]\n",
    "\n",
    "  for t in train:\n",
    "    if not os.path.exists(os.path.join(base_dir, 'train', cl)):\n",
    "      os.makedirs(os.path.join(base_dir, 'train', cl))\n",
    "    shutil.move(t, os.path.join(base_dir, 'train', cl))\n",
    "\n",
    "  for v in val:\n",
    "    if not os.path.exists(os.path.join(base_dir, 'val', cl)):\n",
    "      os.makedirs(os.path.join(base_dir, 'val', cl))\n",
    "    shutil.move(v, os.path.join(base_dir, 'val', cl))"
   ]
  },
  {
   "cell_type": "code",
   "execution_count": 14,
   "metadata": {},
   "outputs": [],
   "source": [
    "# a function for resizing images in a target directory\n",
    "\n",
    "def image_mover(target_dir, working_dir):\n",
    "    # copy files from target to working\n",
    "    for root, dirs, files in os.walk(target_dir, topdown=False):\n",
    "        for f in files:\n",
    "            shutil.move(os.path.join(target_dir,f), os.path.join(working_dir,f))\n",
    "            \n",
    "   "
   ]
  },
  {
   "cell_type": "code",
   "execution_count": 28,
   "metadata": {},
   "outputs": [],
   "source": [
    " # empty target\n",
    "def image_resizer(target_dir, working_dir, width, height):   \n",
    "    # for each file in working\n",
    "    for root, dirs, files in os.walk(working_dir, topdown=False):\n",
    "        for f in files:\n",
    "            im1 = Image.open(os.path.join(working_dir,f))\n",
    "            im2 = im1.resize( (width, height) )\n",
    "            im2.save(os.path.join(target_dir, f))\n",
    "       \n",
    "    # empty working"
   ]
  },
  {
   "cell_type": "code",
   "execution_count": 31,
   "metadata": {},
   "outputs": [],
   "source": [
    "source = '/home/newton/images/gender_images/train/female'\n",
    "dest = '/home/newton/images/working'"
   ]
  },
  {
   "cell_type": "code",
   "execution_count": 15,
   "metadata": {},
   "outputs": [],
   "source": [
    "image_mover(source, dest)"
   ]
  },
  {
   "cell_type": "code",
   "execution_count": 29,
   "metadata": {},
   "outputs": [],
   "source": [
    "image_resizer(source,dest,224,224)"
   ]
  },
  {
   "cell_type": "code",
   "execution_count": 32,
   "metadata": {},
   "outputs": [],
   "source": [
    "source = '/home/newton/images/gender_images/train/male'"
   ]
  },
  {
   "cell_type": "code",
   "execution_count": 33,
   "metadata": {},
   "outputs": [],
   "source": [
    "image_mover(source, dest)"
   ]
  },
  {
   "cell_type": "code",
   "execution_count": 34,
   "metadata": {},
   "outputs": [],
   "source": [
    "image_resizer(source,dest,224,224)"
   ]
  },
  {
   "cell_type": "code",
   "execution_count": 37,
   "metadata": {},
   "outputs": [],
   "source": [
    "source = '/home/newton/images/gender_images/val/female'"
   ]
  },
  {
   "cell_type": "code",
   "execution_count": 38,
   "metadata": {},
   "outputs": [],
   "source": [
    "image_mover(source, dest)"
   ]
  },
  {
   "cell_type": "code",
   "execution_count": 39,
   "metadata": {},
   "outputs": [],
   "source": [
    "image_resizer(source,dest,224,224)"
   ]
  },
  {
   "cell_type": "code",
   "execution_count": 41,
   "metadata": {},
   "outputs": [],
   "source": [
    "source = '/home/newton/images/gender_images/val/male'"
   ]
  },
  {
   "cell_type": "code",
   "execution_count": 42,
   "metadata": {},
   "outputs": [],
   "source": [
    "image_mover(source, dest)"
   ]
  },
  {
   "cell_type": "code",
   "execution_count": 43,
   "metadata": {},
   "outputs": [],
   "source": [
    "image_resizer(source,dest,224,224)"
   ]
  }
 ],
 "metadata": {
  "kernelspec": {
   "display_name": "Python 3",
   "language": "python",
   "name": "python3"
  },
  "language_info": {
   "codemirror_mode": {
    "name": "ipython",
    "version": 3
   },
   "file_extension": ".py",
   "mimetype": "text/x-python",
   "name": "python",
   "nbconvert_exporter": "python",
   "pygments_lexer": "ipython3",
   "version": "3.7.3"
  }
 },
 "nbformat": 4,
 "nbformat_minor": 2
}
