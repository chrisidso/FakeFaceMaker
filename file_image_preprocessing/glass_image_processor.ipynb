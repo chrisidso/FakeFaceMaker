{
 "cells": [
  {
   "cell_type": "code",
   "execution_count": 3,
   "metadata": {},
   "outputs": [],
   "source": [
    "import pandas as pd\n",
    "import numpy as np\n",
    "import io\n",
    "import struct\n",
    "import os\n",
    "from PIL import Image\n",
    "from matplotlib import pyplot as plt\n",
    "from skimage.io import imread, imshow\n",
    "from skimage.transform import resize, rotate\n",
    "import shutil\n",
    "import glob\n",
    "import file_image_processor"
   ]
  },
  {
   "cell_type": "code",
   "execution_count": 43,
   "metadata": {},
   "outputs": [],
   "source": [
    "fp = \"/home/newton/images/gender_images/train/male\"\n",
    "attr_list = list()\n",
    "for root, dirs, files in os.walk(fp, topdown=False):\n",
    "    for f in files:\n",
    "        attr_list.append(getImData(os.path.join(fp,f)))\n",
    "        \n",
    "        "
   ]
  },
  {
   "cell_type": "code",
   "execution_count": 44,
   "metadata": {},
   "outputs": [
    {
     "data": {
      "text/plain": [
       "array([[178, 218],\n",
       "       [178, 218],\n",
       "       [178, 218],\n",
       "       [178, 218]])"
      ]
     },
     "execution_count": 44,
     "metadata": {},
     "output_type": "execute_result"
    }
   ],
   "source": [
    "n1 = np.array(attr_list)\n",
    "n1[:4]"
   ]
  },
  {
   "cell_type": "code",
   "execution_count": 45,
   "metadata": {},
   "outputs": [
    {
     "name": "stdout",
     "output_type": "stream",
     "text": [
      "[178 218]\n"
     ]
    }
   ],
   "source": [
    "print(np.unique(n1))"
   ]
  },
  {
   "cell_type": "code",
   "execution_count": 2,
   "metadata": {},
   "outputs": [],
   "source": [
    "def train_data_maker(data_folder, num_images, c_name, id, max_images):\n",
    "    ''' data_folder    -   the path to write the imags to\n",
    "        num_images     -   the number of images to write\n",
    "        c_name         -   the name of the column\n",
    "        id             -   the value to use             \n",
    "        max_images     -   the maximum number of images to look through '''\n",
    "\n",
    "    count = 0\n",
    "    cindx = anno.columns.get_loc(c_name)\n",
    "   \n",
    "    for i in range(max_images):\n",
    "        filename = anno.iloc[i,0]\n",
    "        if count == num_images:\n",
    "            break\n",
    "        \n",
    "        if anno.iloc[i,cindx] == id:\n",
    "            s3client.download_file('fakefacemaker',filename, os.path.join(data_folder, filename))\n",
    "            count += 1"
   ]
  },
  {
   "cell_type": "code",
   "execution_count": 4,
   "metadata": {},
   "outputs": [
    {
     "name": "stdout",
     "output_type": "stream",
     "text": [
      "glasses: 4000 Images\n",
      "no_glasses: 4000 Images\n"
     ]
    }
   ],
   "source": [
    "# Creates the traain and val folders in preparation for training the model\n",
    "classes = ['glasses', 'no_glasses']\n",
    "base_dir= '/home/newton/images/glasses_train'\n",
    "for cl in classes:\n",
    "  img_path = os.path.join(base_dir, cl)\n",
    "  images = glob.glob(img_path + '/*.jpg')\n",
    "  print(\"{}: {} Images\".format(cl, len(images)))\n",
    "  num_train = int(round(len(images)*0.8))\n",
    "  train, val = images[:num_train], images[num_train:]\n",
    "\n",
    "  for t in train:\n",
    "    if not os.path.exists(os.path.join(base_dir, 'train', cl)):\n",
    "      os.makedirs(os.path.join(base_dir, 'train', cl))\n",
    "    shutil.move(t, os.path.join(base_dir, 'train', cl))\n",
    "\n",
    "  for v in val:\n",
    "    if not os.path.exists(os.path.join(base_dir, 'val', cl)):\n",
    "      os.makedirs(os.path.join(base_dir, 'val', cl))\n",
    "    shutil.move(v, os.path.join(base_dir, 'val', cl))"
   ]
  },
  {
   "cell_type": "code",
   "execution_count": 5,
   "metadata": {},
   "outputs": [],
   "source": [
    "source = '/home/newton/images/glasses_train/glasses'\n",
    "dest = '/home/newton/images/working'"
   ]
  },
  {
   "cell_type": "code",
   "execution_count": 6,
   "metadata": {},
   "outputs": [],
   "source": [
    "image_mover(source, dest)"
   ]
  },
  {
   "cell_type": "code",
   "execution_count": 7,
   "metadata": {},
   "outputs": [],
   "source": [
    "image_resizer(source,dest,224,224)"
   ]
  },
  {
   "cell_type": "code",
   "execution_count": 10,
   "metadata": {},
   "outputs": [],
   "source": [
    "source = '/home/newton/images/glasses_train/no_glasses'"
   ]
  },
  {
   "cell_type": "code",
   "execution_count": 11,
   "metadata": {},
   "outputs": [],
   "source": [
    "image_mover(source, dest)"
   ]
  },
  {
   "cell_type": "code",
   "execution_count": 12,
   "metadata": {},
   "outputs": [],
   "source": [
    "image_resizer(source,dest,224,224)"
   ]
  }
 ],
 "metadata": {
  "kernelspec": {
   "display_name": "Python 3",
   "language": "python",
   "name": "python3"
  },
  "language_info": {
   "codemirror_mode": {
    "name": "ipython",
    "version": 3
   },
   "file_extension": ".py",
   "mimetype": "text/x-python",
   "name": "python",
   "nbconvert_exporter": "python",
   "pygments_lexer": "ipython3",
   "version": "3.7.3"
  }
 },
 "nbformat": 4,
 "nbformat_minor": 2
}
